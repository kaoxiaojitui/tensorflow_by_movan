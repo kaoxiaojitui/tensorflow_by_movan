{
 "cells": [
  {
   "cell_type": "code",
   "execution_count": 3,
   "metadata": {},
   "outputs": [],
   "source": [
    "import tensorflow as tf\n",
    "import numpy as np\n",
    "import pandas as pd"
   ]
  },
  {
   "cell_type": "code",
   "execution_count": 5,
   "metadata": {},
   "outputs": [],
   "source": [
    "# create data\n",
    "x_data = np.random.randn(100).astype(np.float32) #input data\n",
    "y_data = x_data*0.1 + 0.3  # output data"
   ]
  },
  {
   "cell_type": "code",
   "execution_count": 7,
   "metadata": {},
   "outputs": [],
   "source": [
    "#create tensoflow sctrucute \n",
    "#权重\n",
    "Weights = tf.Variable(tf.random_uniform([1], -1.0, 1.0)) #参数变量\n",
    "#偏量?\n",
    "biases = tf.Variable(tf.zeros([1]))\n",
    "\n",
    "y = Weights*x_data + biases\n",
    "\n",
    "loss = tf.reduce_mean(tf.square(y-y_data))  \n",
    "optimizer = tf.train.GradientDescentOptimizer(0.5)  #梯度下降， learning rate = 0.5\n",
    "train = optimizer.minimize(loss)\n",
    "\n",
    "init = tf.global_variables_initializer()"
   ]
  },
  {
   "cell_type": "code",
   "execution_count": 8,
   "metadata": {},
   "outputs": [],
   "source": [
    "session = tf.Session()\n",
    "session.run(init)  # 激活"
   ]
  },
  {
   "cell_type": "code",
   "execution_count": 9,
   "metadata": {},
   "outputs": [
    {
     "name": "stdout",
     "output_type": "stream",
     "text": [
      "0 [0.18335009] [0.26444718]\n",
      "20 [0.1] [0.3]\n",
      "40 [0.1] [0.3]\n",
      "60 [0.1] [0.3]\n",
      "80 [0.1] [0.3]\n",
      "100 [0.1] [0.3]\n",
      "120 [0.1] [0.3]\n",
      "140 [0.1] [0.3]\n",
      "160 [0.1] [0.3]\n",
      "180 [0.1] [0.3]\n",
      "200 [0.1] [0.3]\n"
     ]
    }
   ],
   "source": [
    "for step in range(201):\n",
    "    session.run(train)\n",
    "    if step %20 == 0:\n",
    "        print(step, session.run(Weights), session.run(biases))"
   ]
  },
  {
   "cell_type": "code",
   "execution_count": 10,
   "metadata": {},
   "outputs": [],
   "source": [
    "session.close()"
   ]
  }
 ],
 "metadata": {
  "kernelspec": {
   "display_name": "Python 3",
   "language": "python",
   "name": "python3"
  },
  "language_info": {
   "codemirror_mode": {
    "name": "ipython",
    "version": 3
   },
   "file_extension": ".py",
   "mimetype": "text/x-python",
   "name": "python",
   "nbconvert_exporter": "python",
   "pygments_lexer": "ipython3",
   "version": "3.5.6"
  }
 },
 "nbformat": 4,
 "nbformat_minor": 2
}
