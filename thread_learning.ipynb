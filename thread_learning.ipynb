{
 "cells": [
  {
   "cell_type": "code",
   "execution_count": 13,
   "metadata": {},
   "outputs": [],
   "source": [
    "import multiprocessing as mp\n",
    "import threading as td"
   ]
  },
  {
   "cell_type": "code",
   "execution_count": 21,
   "metadata": {},
   "outputs": [
    {
     "name": "stdout",
     "output_type": "stream",
     "text": [
      "[0, 1, 4, 9, 16, 25, 36, 49, 64, 81]\n",
      "16\n",
      "[0, 1, 4, 9, 16, 25, 36, 49, 64, 81]\n"
     ]
    }
   ],
   "source": [
    "#tread pool\n",
    "def job(x):\n",
    "    return x*x\n",
    "\n",
    "def multicore():\n",
    "    pool = mp.Pool(processes=2)\n",
    "    res = pool.map(job, range(10))\n",
    "    print(res)\n",
    "    res = pool.apply_async(job,(4,))  #args (2,) index,需可迭代\n",
    "    print(res.get())\n",
    "    mutil_res = [pool.apply_async(job,(i,)) for i in range(10)]\n",
    "    print([res.get() for res in mutil_res])\n",
    "    \n",
    "multicore()"
   ]
  },
  {
   "cell_type": "code",
   "execution_count": 23,
   "metadata": {},
   "outputs": [],
   "source": [
    "#shared memory  --> 进程中的数据共享\n",
    "value = mp.Value('d',1) #double  -->  1\n",
    "array = mp.Array('i', [1,2,3]) # int list --> [1,2,3]"
   ]
  },
  {
   "cell_type": "code",
   "execution_count": null,
   "metadata": {},
   "outputs": [],
   "source": []
  }
 ],
 "metadata": {
  "kernelspec": {
   "display_name": "Python 3",
   "language": "python",
   "name": "python3"
  },
  "language_info": {
   "codemirror_mode": {
    "name": "ipython",
    "version": 3
   },
   "file_extension": ".py",
   "mimetype": "text/x-python",
   "name": "python",
   "nbconvert_exporter": "python",
   "pygments_lexer": "ipython3",
   "version": "3.5.6"
  }
 },
 "nbformat": 4,
 "nbformat_minor": 2
}
