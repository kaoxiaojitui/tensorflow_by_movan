{
 "cells": [
  {
   "cell_type": "code",
   "execution_count": 1,
   "metadata": {},
   "outputs": [],
   "source": [
    "import tensorflow as tf\n",
    "import numpy as np"
   ]
  },
  {
   "cell_type": "code",
   "execution_count": 2,
   "metadata": {},
   "outputs": [],
   "source": [
    "#RESTORE!!!\n",
    "# need to define the same dtype and shape when restore\n",
    "Weight_bak = tf.Variable(np.arange(6).reshape((2,3)), dtype=tf.float32, name='weight')  #name should be same as it in saver\n",
    "biases_bak = tf.Variable(np.arange(3).reshape((1,3)), dtype=tf.float32, name='biases')"
   ]
  },
  {
   "cell_type": "code",
   "execution_count": 3,
   "metadata": {},
   "outputs": [
    {
     "name": "stdout",
     "output_type": "stream",
     "text": [
      "INFO:tensorflow:Restoring parameters from my_net/save_net.ckpt\n",
      "Weight: [[1. 2. 3.]\n",
      " [4. 5. 6.]]\n",
      "biases: [[1. 2. 3.]]\n"
     ]
    }
   ],
   "source": [
    "#no need to init\n",
    "saver = tf.train.Saver()\n",
    "with tf.Session() as sess:\n",
    "    saver.restore(sess,\"my_net/save_net.ckpt\")  \n",
    "    print(\"Weight:\", sess.run(Weight_bak))\n",
    "    print(\"biases:\", sess.run(biases_bak))"
   ]
  }
 ],
 "metadata": {
  "kernelspec": {
   "display_name": "Python 3",
   "language": "python",
   "name": "python3"
  },
  "language_info": {
   "codemirror_mode": {
    "name": "ipython",
    "version": 3
   },
   "file_extension": ".py",
   "mimetype": "text/x-python",
   "name": "python",
   "nbconvert_exporter": "python",
   "pygments_lexer": "ipython3",
   "version": "3.5.6"
  }
 },
 "nbformat": 4,
 "nbformat_minor": 2
}
